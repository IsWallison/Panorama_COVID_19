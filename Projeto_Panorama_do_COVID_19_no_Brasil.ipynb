{
  "nbformat": 4,
  "nbformat_minor": 0,
  "metadata": {
    "colab": {
      "provenance": [],
      "include_colab_link": true
    },
    "kernelspec": {
      "name": "python3",
      "display_name": "Python 3"
    }
  },
  "cells": [
    {
      "cell_type": "markdown",
      "metadata": {
        "id": "view-in-github",
        "colab_type": "text"
      },
      "source": [
        "<a href=\"https://colab.research.google.com/github/IsWallison/Panorama_COVID_19/blob/main/Projeto_Panorama_do_COVID_19_no_Brasil.ipynb\" target=\"_parent\"><img src=\"https://colab.research.google.com/assets/colab-badge.svg\" alt=\"Open In Colab\"/></a>"
      ]
    },
    {
      "cell_type": "markdown",
      "metadata": {
        "id": "-eFQZydM9O9J"
      },
      "source": [
        "<img alt=\"Colaboratory logo\" width=\"15%\" src=\"https://raw.githubusercontent.com/carlosfab/escola-data-science/master/img/novo_logo_bg_claro.png\">\n",
        "\n",
        "#### **Data Science na Prática 3.0**\n",
        "*by [sigmoidal.ai](https://sigmoidal.ai)*  \n",
        "\n",
        "---\n",
        "  "
      ]
    },
    {
      "cell_type": "markdown",
      "metadata": {
        "id": "kLI0gJtzDGuQ"
      },
      "source": [
        "# Panorama do COVID-19 no Brasil\n",
        "\n",
        "COVID-19 é uma doença infecciosa causada por recém-descoberto coronavírus.\n",
        "\n",
        "Transmitido principalmente por meio de gotículas provenientes de tosses ou espirros de pessoas infectadas, a gravidade dos sintomas varia muito de pessoa para pessoa.\n",
        "\n",
        "Fato é, não se sabe muita coisa a respeito do COVID-19. Estudos estão sendo realizados no mundo todo, porém os resultados ainda não são conclusivos e definitivos.\n",
        "\n",
        "<center><img alt=\"Colaboratory logo\" width=\"50%\" src=\"https://raw.githubusercontent.com/carlosfab/dsnp2/master/img/covid19.jpg\"></center>\n",
        "\n",
        "Até o presente momento, observa-se que cerca de 80% dos casos confirmados são assintomáticos e rápidos. A maioria das pessoas que se encaixam nesse grupo, se recupera sem nenhuma sequela.\n",
        "\n",
        "No entanto, 15% das pessoas terão infecções graves e precisarão de oxigênio. O restante das pessoas, que representam 5%, serão classificadas como infecções muito graves e precisarão de ventilação assistida, por meio de respiradores mecânicos em ambiente hospitalar.\n",
        "\n",
        "Com o objetivo de elevar a consciência situacional a respeito do COVID-19 no Brasil, irei realizar uma análise sobre os dados públicos da doença."
      ]
    },
    {
      "cell_type": "markdown",
      "metadata": {
        "id": "0zxQHhIUDF_2"
      },
      "source": [
        "Primeiramente para começarmos as análises, precisamos importar algumas biblioteca, que nos auxiliarão na análise e tratamento dos dados. Panda, Matplotlib, Seaborm e Folium.\n",
        "\n",
        "Pandas é uma ferramenta de análise e manipulação de dados de código aberto rápida, poderosa, flexível e fácil de usar, construído sobre a linguagem de programação Python.\n",
        "\n",
        "Matplotlib é uma biblioteca abrangente para criar visualizações estáticas, animadas e interativas em Python. O Matplotlib torna as coisas fáceis mais fáceis e as difíceis possíveis.\n",
        "\n",
        "Seaborn é uma biblioteca de visualização de dados Python baseada em matplotlib. Ele fornece uma interface de alto nível para desenhar gráficos estatísticos atraentes e informativos.\n",
        "\n",
        "Datetime fornece classes para manipulação de datas e horas.\n"
      ]
    },
    {
      "cell_type": "code",
      "metadata": {
        "id": "lOtEJxe0DMEb"
      },
      "source": [
        "# importar as bibliotecas necessárias\n",
        "import pandas as pd\n",
        "import matplotlib.pyplot as plt\n",
        "import seaborn as sns\n",
        "from datetime import date\n",
        "\n",
        "sns.set_style()\n",
        "%matplotlib inline\n",
        "\n",
        "# importar o dataset COVID-19 para um DataaFrame\n"
      ],
      "execution_count": 1,
      "outputs": []
    },
    {
      "cell_type": "markdown",
      "metadata": {
        "id": "qb5By2nIMS6m"
      },
      "source": [
        "Importando os dados disponível [aqui](https://github.com/owid/covid-19-data/blob/master/public/data/owid-covid-data.csv?raw=true), no formato CSV e atribuindo a uma variável chamada df.\n",
        "\n",
        "CSV é a sigla para Comma Separated Values (em português, valores separados por vírgulas). Um arquivo CSV é um arquivo de texto simples que armazena informações de planilhas e tabelas. O conteúdo geralmente é uma tabela de texto, números ou datas. Os arquivos CSV podem ser facilmente importados e exportados usando programas que armazenam dados em tabelas."
      ]
    },
    {
      "cell_type": "code",
      "metadata": {
        "id": "gO1fv3D1PS4k",
        "colab": {
          "base_uri": "https://localhost:8080/",
          "height": 386
        },
        "outputId": "1dfbcf17-4b9f-483d-f5d5-b2340127bee9"
      },
      "source": [
        "df_inicial = pd.read_csv('https://github.com/owid/covid-19-data/blob/master/public/data/owid-covid-data.csv?raw=true')\n",
        "df_inicial.head()"
      ],
      "execution_count": 2,
      "outputs": [
        {
          "output_type": "execute_result",
          "data": {
            "text/plain": [
              "  iso_code continent     location        date  total_cases  new_cases  \\\n",
              "0      AFG      Asia  Afghanistan  2020-02-24          5.0        5.0   \n",
              "1      AFG      Asia  Afghanistan  2020-02-25          5.0        0.0   \n",
              "2      AFG      Asia  Afghanistan  2020-02-26          5.0        0.0   \n",
              "3      AFG      Asia  Afghanistan  2020-02-27          5.0        0.0   \n",
              "4      AFG      Asia  Afghanistan  2020-02-28          5.0        0.0   \n",
              "\n",
              "   new_cases_smoothed  total_deaths  new_deaths  new_deaths_smoothed  ...  \\\n",
              "0                 NaN           NaN         NaN                  NaN  ...   \n",
              "1                 NaN           NaN         NaN                  NaN  ...   \n",
              "2                 NaN           NaN         NaN                  NaN  ...   \n",
              "3                 NaN           NaN         NaN                  NaN  ...   \n",
              "4                 NaN           NaN         NaN                  NaN  ...   \n",
              "\n",
              "   male_smokers  handwashing_facilities  hospital_beds_per_thousand  \\\n",
              "0           NaN                  37.746                         0.5   \n",
              "1           NaN                  37.746                         0.5   \n",
              "2           NaN                  37.746                         0.5   \n",
              "3           NaN                  37.746                         0.5   \n",
              "4           NaN                  37.746                         0.5   \n",
              "\n",
              "   life_expectancy  human_development_index  population  \\\n",
              "0            64.83                    0.511  41128772.0   \n",
              "1            64.83                    0.511  41128772.0   \n",
              "2            64.83                    0.511  41128772.0   \n",
              "3            64.83                    0.511  41128772.0   \n",
              "4            64.83                    0.511  41128772.0   \n",
              "\n",
              "   excess_mortality_cumulative_absolute  excess_mortality_cumulative  \\\n",
              "0                                   NaN                          NaN   \n",
              "1                                   NaN                          NaN   \n",
              "2                                   NaN                          NaN   \n",
              "3                                   NaN                          NaN   \n",
              "4                                   NaN                          NaN   \n",
              "\n",
              "   excess_mortality  excess_mortality_cumulative_per_million  \n",
              "0               NaN                                      NaN  \n",
              "1               NaN                                      NaN  \n",
              "2               NaN                                      NaN  \n",
              "3               NaN                                      NaN  \n",
              "4               NaN                                      NaN  \n",
              "\n",
              "[5 rows x 67 columns]"
            ],
            "text/html": [
              "\n",
              "  <div id=\"df-06bac1f1-e5a9-44e5-8d59-0f12a3948b17\">\n",
              "    <div class=\"colab-df-container\">\n",
              "      <div>\n",
              "<style scoped>\n",
              "    .dataframe tbody tr th:only-of-type {\n",
              "        vertical-align: middle;\n",
              "    }\n",
              "\n",
              "    .dataframe tbody tr th {\n",
              "        vertical-align: top;\n",
              "    }\n",
              "\n",
              "    .dataframe thead th {\n",
              "        text-align: right;\n",
              "    }\n",
              "</style>\n",
              "<table border=\"1\" class=\"dataframe\">\n",
              "  <thead>\n",
              "    <tr style=\"text-align: right;\">\n",
              "      <th></th>\n",
              "      <th>iso_code</th>\n",
              "      <th>continent</th>\n",
              "      <th>location</th>\n",
              "      <th>date</th>\n",
              "      <th>total_cases</th>\n",
              "      <th>new_cases</th>\n",
              "      <th>new_cases_smoothed</th>\n",
              "      <th>total_deaths</th>\n",
              "      <th>new_deaths</th>\n",
              "      <th>new_deaths_smoothed</th>\n",
              "      <th>...</th>\n",
              "      <th>male_smokers</th>\n",
              "      <th>handwashing_facilities</th>\n",
              "      <th>hospital_beds_per_thousand</th>\n",
              "      <th>life_expectancy</th>\n",
              "      <th>human_development_index</th>\n",
              "      <th>population</th>\n",
              "      <th>excess_mortality_cumulative_absolute</th>\n",
              "      <th>excess_mortality_cumulative</th>\n",
              "      <th>excess_mortality</th>\n",
              "      <th>excess_mortality_cumulative_per_million</th>\n",
              "    </tr>\n",
              "  </thead>\n",
              "  <tbody>\n",
              "    <tr>\n",
              "      <th>0</th>\n",
              "      <td>AFG</td>\n",
              "      <td>Asia</td>\n",
              "      <td>Afghanistan</td>\n",
              "      <td>2020-02-24</td>\n",
              "      <td>5.0</td>\n",
              "      <td>5.0</td>\n",
              "      <td>NaN</td>\n",
              "      <td>NaN</td>\n",
              "      <td>NaN</td>\n",
              "      <td>NaN</td>\n",
              "      <td>...</td>\n",
              "      <td>NaN</td>\n",
              "      <td>37.746</td>\n",
              "      <td>0.5</td>\n",
              "      <td>64.83</td>\n",
              "      <td>0.511</td>\n",
              "      <td>41128772.0</td>\n",
              "      <td>NaN</td>\n",
              "      <td>NaN</td>\n",
              "      <td>NaN</td>\n",
              "      <td>NaN</td>\n",
              "    </tr>\n",
              "    <tr>\n",
              "      <th>1</th>\n",
              "      <td>AFG</td>\n",
              "      <td>Asia</td>\n",
              "      <td>Afghanistan</td>\n",
              "      <td>2020-02-25</td>\n",
              "      <td>5.0</td>\n",
              "      <td>0.0</td>\n",
              "      <td>NaN</td>\n",
              "      <td>NaN</td>\n",
              "      <td>NaN</td>\n",
              "      <td>NaN</td>\n",
              "      <td>...</td>\n",
              "      <td>NaN</td>\n",
              "      <td>37.746</td>\n",
              "      <td>0.5</td>\n",
              "      <td>64.83</td>\n",
              "      <td>0.511</td>\n",
              "      <td>41128772.0</td>\n",
              "      <td>NaN</td>\n",
              "      <td>NaN</td>\n",
              "      <td>NaN</td>\n",
              "      <td>NaN</td>\n",
              "    </tr>\n",
              "    <tr>\n",
              "      <th>2</th>\n",
              "      <td>AFG</td>\n",
              "      <td>Asia</td>\n",
              "      <td>Afghanistan</td>\n",
              "      <td>2020-02-26</td>\n",
              "      <td>5.0</td>\n",
              "      <td>0.0</td>\n",
              "      <td>NaN</td>\n",
              "      <td>NaN</td>\n",
              "      <td>NaN</td>\n",
              "      <td>NaN</td>\n",
              "      <td>...</td>\n",
              "      <td>NaN</td>\n",
              "      <td>37.746</td>\n",
              "      <td>0.5</td>\n",
              "      <td>64.83</td>\n",
              "      <td>0.511</td>\n",
              "      <td>41128772.0</td>\n",
              "      <td>NaN</td>\n",
              "      <td>NaN</td>\n",
              "      <td>NaN</td>\n",
              "      <td>NaN</td>\n",
              "    </tr>\n",
              "    <tr>\n",
              "      <th>3</th>\n",
              "      <td>AFG</td>\n",
              "      <td>Asia</td>\n",
              "      <td>Afghanistan</td>\n",
              "      <td>2020-02-27</td>\n",
              "      <td>5.0</td>\n",
              "      <td>0.0</td>\n",
              "      <td>NaN</td>\n",
              "      <td>NaN</td>\n",
              "      <td>NaN</td>\n",
              "      <td>NaN</td>\n",
              "      <td>...</td>\n",
              "      <td>NaN</td>\n",
              "      <td>37.746</td>\n",
              "      <td>0.5</td>\n",
              "      <td>64.83</td>\n",
              "      <td>0.511</td>\n",
              "      <td>41128772.0</td>\n",
              "      <td>NaN</td>\n",
              "      <td>NaN</td>\n",
              "      <td>NaN</td>\n",
              "      <td>NaN</td>\n",
              "    </tr>\n",
              "    <tr>\n",
              "      <th>4</th>\n",
              "      <td>AFG</td>\n",
              "      <td>Asia</td>\n",
              "      <td>Afghanistan</td>\n",
              "      <td>2020-02-28</td>\n",
              "      <td>5.0</td>\n",
              "      <td>0.0</td>\n",
              "      <td>NaN</td>\n",
              "      <td>NaN</td>\n",
              "      <td>NaN</td>\n",
              "      <td>NaN</td>\n",
              "      <td>...</td>\n",
              "      <td>NaN</td>\n",
              "      <td>37.746</td>\n",
              "      <td>0.5</td>\n",
              "      <td>64.83</td>\n",
              "      <td>0.511</td>\n",
              "      <td>41128772.0</td>\n",
              "      <td>NaN</td>\n",
              "      <td>NaN</td>\n",
              "      <td>NaN</td>\n",
              "      <td>NaN</td>\n",
              "    </tr>\n",
              "  </tbody>\n",
              "</table>\n",
              "<p>5 rows × 67 columns</p>\n",
              "</div>\n",
              "      <button class=\"colab-df-convert\" onclick=\"convertToInteractive('df-06bac1f1-e5a9-44e5-8d59-0f12a3948b17')\"\n",
              "              title=\"Convert this dataframe to an interactive table.\"\n",
              "              style=\"display:none;\">\n",
              "        \n",
              "  <svg xmlns=\"http://www.w3.org/2000/svg\" height=\"24px\"viewBox=\"0 0 24 24\"\n",
              "       width=\"24px\">\n",
              "    <path d=\"M0 0h24v24H0V0z\" fill=\"none\"/>\n",
              "    <path d=\"M18.56 5.44l.94 2.06.94-2.06 2.06-.94-2.06-.94-.94-2.06-.94 2.06-2.06.94zm-11 1L8.5 8.5l.94-2.06 2.06-.94-2.06-.94L8.5 2.5l-.94 2.06-2.06.94zm10 10l.94 2.06.94-2.06 2.06-.94-2.06-.94-.94-2.06-.94 2.06-2.06.94z\"/><path d=\"M17.41 7.96l-1.37-1.37c-.4-.4-.92-.59-1.43-.59-.52 0-1.04.2-1.43.59L10.3 9.45l-7.72 7.72c-.78.78-.78 2.05 0 2.83L4 21.41c.39.39.9.59 1.41.59.51 0 1.02-.2 1.41-.59l7.78-7.78 2.81-2.81c.8-.78.8-2.07 0-2.86zM5.41 20L4 18.59l7.72-7.72 1.47 1.35L5.41 20z\"/>\n",
              "  </svg>\n",
              "      </button>\n",
              "      \n",
              "  <style>\n",
              "    .colab-df-container {\n",
              "      display:flex;\n",
              "      flex-wrap:wrap;\n",
              "      gap: 12px;\n",
              "    }\n",
              "\n",
              "    .colab-df-convert {\n",
              "      background-color: #E8F0FE;\n",
              "      border: none;\n",
              "      border-radius: 50%;\n",
              "      cursor: pointer;\n",
              "      display: none;\n",
              "      fill: #1967D2;\n",
              "      height: 32px;\n",
              "      padding: 0 0 0 0;\n",
              "      width: 32px;\n",
              "    }\n",
              "\n",
              "    .colab-df-convert:hover {\n",
              "      background-color: #E2EBFA;\n",
              "      box-shadow: 0px 1px 2px rgba(60, 64, 67, 0.3), 0px 1px 3px 1px rgba(60, 64, 67, 0.15);\n",
              "      fill: #174EA6;\n",
              "    }\n",
              "\n",
              "    [theme=dark] .colab-df-convert {\n",
              "      background-color: #3B4455;\n",
              "      fill: #D2E3FC;\n",
              "    }\n",
              "\n",
              "    [theme=dark] .colab-df-convert:hover {\n",
              "      background-color: #434B5C;\n",
              "      box-shadow: 0px 1px 3px 1px rgba(0, 0, 0, 0.15);\n",
              "      filter: drop-shadow(0px 1px 2px rgba(0, 0, 0, 0.3));\n",
              "      fill: #FFFFFF;\n",
              "    }\n",
              "  </style>\n",
              "\n",
              "      <script>\n",
              "        const buttonEl =\n",
              "          document.querySelector('#df-06bac1f1-e5a9-44e5-8d59-0f12a3948b17 button.colab-df-convert');\n",
              "        buttonEl.style.display =\n",
              "          google.colab.kernel.accessAllowed ? 'block' : 'none';\n",
              "\n",
              "        async function convertToInteractive(key) {\n",
              "          const element = document.querySelector('#df-06bac1f1-e5a9-44e5-8d59-0f12a3948b17');\n",
              "          const dataTable =\n",
              "            await google.colab.kernel.invokeFunction('convertToInteractive',\n",
              "                                                     [key], {});\n",
              "          if (!dataTable) return;\n",
              "\n",
              "          const docLinkHtml = 'Like what you see? Visit the ' +\n",
              "            '<a target=\"_blank\" href=https://colab.research.google.com/notebooks/data_table.ipynb>data table notebook</a>'\n",
              "            + ' to learn more about interactive tables.';\n",
              "          element.innerHTML = '';\n",
              "          dataTable['output_type'] = 'display_data';\n",
              "          await google.colab.output.renderOutput(dataTable, element);\n",
              "          const docLink = document.createElement('div');\n",
              "          docLink.innerHTML = docLinkHtml;\n",
              "          element.appendChild(docLink);\n",
              "        }\n",
              "      </script>\n",
              "    </div>\n",
              "  </div>\n",
              "  "
            ]
          },
          "metadata": {},
          "execution_count": 2
        }
      ]
    },
    {
      "cell_type": "markdown",
      "source": [
        "### Dicionário de Variáveis\n",
        "Discionário de variáveis, para ajudar no entendimento geral da análise.\n",
        "\n",
        "Os atributos do *dataset* estão descritos abaixo.\n",
        "A descrição completa pode ser encontrada [neste link](https://github.com/owid/covid-19-data/blob/master/public/data/owid-covid-codebook.csv).\n",
        "\n",
        "\n",
        "Atributo  | Descrição \n",
        "------------|-----------\n",
        "iso_code | códigos de país de três letras\n",
        "continent | Continente da localização geográfica\n",
        "location | Localização geográfica\n",
        "date | Data da observação\n",
        "total_cases | Total de casos confirmados de COVID-19¹\n",
        "new_cases | New confirmed cases of COVID-19¹ ²\n",
        "new_cases_smoothed |Novos casos confirmados de COVID-19 (suavizado de 7 dias¹\n",
        "total_deaths | Total de mortes atribuídas ao COVID-19\n",
        "new_deaths | Novas mortes atribuídas ao COVID-19¹ ²\n",
        "new_deaths_smoothed | Novas mortes atribuídas ao COVID-19 (suavizado de 7 dias)¹\n",
        "total_cases_per_million | Total de casos confirmados de COVID-19 por 1.000.000 de pessoas¹\n",
        "new_cases_per_million | Novos de casos confirmados de COVID-19 por 1.000.000 de pessoas¹\n",
        "new_cases_smoothed_per_million | Novos casos confirmados de COVID-19 (suavizado em 7 dias) por 1.000.000 de pessoas¹\n",
        "total_deaths_per_million | Total de mortes atribuídas ao COVID-19 por 1.000.000 de pessoas¹\n",
        "new_deaths_per_million | Novas mortes atribuídas ao COVID-19 por 1.000.000 de pessoas¹\n",
        "new_deaths_smoothed_per_million | Novas mortes atribuídas ao COVID-19 (suavizado de 7 dias) por 1.000.000 de pessoas¹\n",
        "reproduction_rate | Estimativa em tempo real da taxa efetiva de reprodução (R) do COVID-19. [ver link](https://github.com/crondonm/TrackingR/tree/main/Estimates-Database)\n",
        "icu_patients | Número de pacientes com COVID-19 em unidades de terapia intensiva (UTIs) em um determinado dia\n",
        "icu_patients_per_million | Número de pacientes com COVID-19 em unidades de terapia intensiva (UTIs) em um determinado dia por 1.000.000 pessoas\n",
        "hosp_patients | Número de pacientes com COVID-19 no hospital em um determinado dia\n",
        "hosp_patients_per_million | Número de pacientes com COVID-19 no hospital em um determinado dia por 1.000.000 de pessoas\n",
        "weekly_icu_admissions | Número de pacientes com COVID-19 recém-admitidos em unidades de terapia intensiva (UTIs) em uma determinada semana (data de notificação e 6 dias anteriores)\n",
        "weekly_icu_admissions_per_million | Número de pacientes com COVID-19 recém-admitidos em unidades de terapia intensiva (UTIs) em uma determinada semana por 1.000.000 pessoas (data de notificação e 6 dias anteriores)\n",
        "weekly_hosp_admissions | Número de pacientes com COVID-19 recém-admitidos em hospitais em uma determinada semana (data do relatório e 6 dias anteriores)\n",
        "weekly_hosp_admissions_per_million | Número de pacientes com COVID-19 recém-admitidos em hospitais em uma determinada semana por 1.000.000 de pessoas (data do relatório e 6 dias anteriores)\n",
        "total_tests | Total de testes para COVID-19\n",
        "new_tests | Novos testes para COVID-19 (calculado apenas para dias consecutivos)\n",
        "total_tests_per_thousand | Total de testes para COVID-19 por 1.000 pessoas\n",
        "new_tests_per_thousand | Novos testes para COVID-19 por 1.000 pessoas\n",
        "new_tests_smoothed | Novos testes para COVID-19 (suavizado de 7 dias).\n",
        "new_tests_smoothed_per_thousand | Novos testes para COVID-19 (suavizado de 7 dias) por 1.000 pessoas\n",
        "positive_rate | A parcela de testes COVID-19 positivos, dada como uma média contínua de 7 dias (este é o inverso de tests_per_case)\n",
        "tests_per_case | Testes realizados por novo caso confirmado de COVID-19, dados como uma média contínua de 7 dias (este é o inverso de positive_rate)\n",
        "tests_units | Unidades usadas pelo local para relatar seus dados de teste\n",
        "total_vaccinations | Número total de doses de vacinação COVID-19 administradas\n",
        "people_vaccinated | Número total de pessoas que receberam pelo menos uma dose de vacina\n",
        "people_fully_vaccinated | Número total de pessoas que receberam todas as doses prescritas pelo protocolo de vacinação inicial\n",
        "total_boosters | Número total de doses de reforço de vacinação COVID-19 administradas\n",
        "new_vaccinations | Novas doses de vacinação COVID-19 administradas\n",
        "new_vaccinations_smoothed | Novas doses de vacinação COVID-19 administradas (suavizado por 7 dias)\n",
        "total_vaccinations_per_hundred | Número total de doses de vacinação COVID-19 administradas por 100 pessoas na população total\n",
        "people_vaccinated_per_hundred | Número total de pessoas que receberam pelo menos uma dose de vacina por 100 pessoas na população total\n",
        "people_fully_vaccinated_per_hundred | Número total de pessoas que receberam todas as doses prescritas pelo protocolo de vacinação inicial por 100 pessoas na população total\n",
        "total_boosters_per_hundred | Número total de doses de reforço de vacinação COVID-19 administradas por 100 pessoas na população total\n",
        "new_vaccinations_smoothed_per_million | Novas doses de vacinação COVID-19 administradas (suavizadas em 7 dias) por 1.000.000 de pessoas na população total\n",
        "new_people_vaccinated_smoothed | Número diário de pessoas que recebem sua primeira dose de vacina (suavizado de 7 dias)\n",
        "new_people_vaccinated_smoothed_per_hundred | Número diário de pessoas que recebem sua primeira dose de vacina (suavizado de 7 dias) por 100 pessoas na população total\n",
        "stringency_index | Índice de Rigidez de Resposta do Governo reescalonado para um valor de 0 a 100 (100 = resposta mais rigorosa) \n",
        "population | População\n",
        "population_density | Número de pessoas dividido por área de terra, medido em quilômetros quadrados (ano mais recente disponível)\n",
        "median_age | Idade média da população (projeção da ONU para 2020)\n",
        "aged_65_older | Parcela da população com 65 anos ou mais (ano mais recente disponível)\n",
        "aged_70_older | Parcela da população com 70 anos ou mais em 2015\n",
        "gdp_per_capita | Produto interno bruto em paridade de poder de compra, em dólares internacionais constantes de 2011 (ano mais recente disponível)\n",
        "extreme_poverty | Percentual da população que vive em extrema pobreza, ano mais recente disponível desde 2010\n",
        "cardiovasc_death_rate | Taxa de mortalidade por doença cardiovascular em 2017 (número anual de mortes por 100.000 pessoas)\n",
        "diabetes_prevalence | Prevalência de diabetes (% da população de 20 a 79 anos) em 2017\n",
        "female_smokers | Proporção de mulheres que fumam (ano mais recente disponível)\n",
        "male_smokers | Proporção de homens que fumam (ano mais recente disponível)\n",
        "handwashing_facilities | Percentagem da população com instalações básicas de lavagem das mãos nas instalações (ano mais recente disponível)\n",
        "hospital_beds_per_thousand | Camas hospitalares por 1.000 pessoas (ano mais recente disponível desde 2010)\n",
        "life_expectancy | Expectativa de vida ao nascer em 2019\n",
        "human_development_index | IDH - Índice de Desenvolvimento Humano (valores para 2019)\n",
        "excess_mortality | Diferença percentual entre o número relatado de mortes semanais ou mensais em 2020–2021 e o número projetado de mortes para o mesmo período\n",
        "excess_mortality_cumulative | Diferença percentual entre o número acumulado de mortes desde 1 de janeiro de 2020 e as mortes cumulativas projetadas para o mesmo período\n",
        "excess_mortality_cumulative_absolute | Diferença cumulativa entre o número relatado de óbitos desde 1º de janeiro de 2020 e o número projetado de óbitos para o mesmo período\n",
        "excess_mortality_cumulative_per_million | Diferença cumulativa entre o número relatado de mortes desde 1º de janeiro de 2020 e o número projetado de mortes para o mesmo período"
      ],
      "metadata": {
        "id": "p-TsBp03a0J0"
      }
    },
    {
      "cell_type": "markdown",
      "source": [
        "O *dataset* também possui valores por continentes, valores esses que serão desconsiderados, uma vez que a análise será por países. Será primeiramente  criada uma lista com as regiões que se deseja remover, em seguida crio uma variável para receber os valores dos *dataframe* antigo, porém sem os valores descartados."
      ],
      "metadata": {
        "id": "aXj-v5hCfPgb"
      }
    },
    {
      "cell_type": "code",
      "source": [
        "lista_regioes = ['High income','Upper middle income', 'Europe', \"Asia\" ,'Lower middle income' ,'South America','European Union','North America']\n",
        "df = df_inicial[~df_inicial['location'].isin(lista_regioes)].copy()\n",
        "\n",
        "df_linhas = df.shape[0]\n",
        "df_colunas = df.shape[1]\n",
        "print(f'Analisando o novo dataset sem os continêntes temos: {df_linhas} linhas e {df_colunas} colunas')"
      ],
      "metadata": {
        "colab": {
          "base_uri": "https://localhost:8080/"
        },
        "id": "jlTwS_R5ZxpW",
        "outputId": "3e144c4c-2ee8-436f-a06d-0745e9f2ecf8"
      },
      "execution_count": 3,
      "outputs": [
        {
          "output_type": "stream",
          "name": "stdout",
          "text": [
            "Analisando o novo dataset sem os continêntes temos: 232666 linhas e 67 colunas\n"
          ]
        }
      ]
    },
    {
      "cell_type": "markdown",
      "source": [
        "Vamos ver a quantidade, se há muitos dados faltantes, quais os formatos e processar de acordo o necessário."
      ],
      "metadata": {
        "id": "Lb9ReIFprFRB"
      }
    },
    {
      "cell_type": "code",
      "source": [
        "print('Atributos:')\n",
        "for i, col in enumerate(df.columns):\n",
        "  print(f'Col {i:2} : {col:45} : {df[col].dtype}')"
      ],
      "metadata": {
        "colab": {
          "base_uri": "https://localhost:8080/"
        },
        "id": "-qdGPOBHrLS3",
        "outputId": "5a3b8c7a-3574-4a84-ee3c-f0fad932fc21"
      },
      "execution_count": 4,
      "outputs": [
        {
          "output_type": "stream",
          "name": "stdout",
          "text": [
            "Atributos:\n",
            "Col  0 : iso_code                                      : object\n",
            "Col  1 : continent                                     : object\n",
            "Col  2 : location                                      : object\n",
            "Col  3 : date                                          : object\n",
            "Col  4 : total_cases                                   : float64\n",
            "Col  5 : new_cases                                     : float64\n",
            "Col  6 : new_cases_smoothed                            : float64\n",
            "Col  7 : total_deaths                                  : float64\n",
            "Col  8 : new_deaths                                    : float64\n",
            "Col  9 : new_deaths_smoothed                           : float64\n",
            "Col 10 : total_cases_per_million                       : float64\n",
            "Col 11 : new_cases_per_million                         : float64\n",
            "Col 12 : new_cases_smoothed_per_million                : float64\n",
            "Col 13 : total_deaths_per_million                      : float64\n",
            "Col 14 : new_deaths_per_million                        : float64\n",
            "Col 15 : new_deaths_smoothed_per_million               : float64\n",
            "Col 16 : reproduction_rate                             : float64\n",
            "Col 17 : icu_patients                                  : float64\n",
            "Col 18 : icu_patients_per_million                      : float64\n",
            "Col 19 : hosp_patients                                 : float64\n",
            "Col 20 : hosp_patients_per_million                     : float64\n",
            "Col 21 : weekly_icu_admissions                         : float64\n",
            "Col 22 : weekly_icu_admissions_per_million             : float64\n",
            "Col 23 : weekly_hosp_admissions                        : float64\n",
            "Col 24 : weekly_hosp_admissions_per_million            : float64\n",
            "Col 25 : total_tests                                   : float64\n",
            "Col 26 : new_tests                                     : float64\n",
            "Col 27 : total_tests_per_thousand                      : float64\n",
            "Col 28 : new_tests_per_thousand                        : float64\n",
            "Col 29 : new_tests_smoothed                            : float64\n",
            "Col 30 : new_tests_smoothed_per_thousand               : float64\n",
            "Col 31 : positive_rate                                 : float64\n",
            "Col 32 : tests_per_case                                : float64\n",
            "Col 33 : tests_units                                   : object\n",
            "Col 34 : total_vaccinations                            : float64\n",
            "Col 35 : people_vaccinated                             : float64\n",
            "Col 36 : people_fully_vaccinated                       : float64\n",
            "Col 37 : total_boosters                                : float64\n",
            "Col 38 : new_vaccinations                              : float64\n",
            "Col 39 : new_vaccinations_smoothed                     : float64\n",
            "Col 40 : total_vaccinations_per_hundred                : float64\n",
            "Col 41 : people_vaccinated_per_hundred                 : float64\n",
            "Col 42 : people_fully_vaccinated_per_hundred           : float64\n",
            "Col 43 : total_boosters_per_hundred                    : float64\n",
            "Col 44 : new_vaccinations_smoothed_per_million         : float64\n",
            "Col 45 : new_people_vaccinated_smoothed                : float64\n",
            "Col 46 : new_people_vaccinated_smoothed_per_hundred    : float64\n",
            "Col 47 : stringency_index                              : float64\n",
            "Col 48 : population_density                            : float64\n",
            "Col 49 : median_age                                    : float64\n",
            "Col 50 : aged_65_older                                 : float64\n",
            "Col 51 : aged_70_older                                 : float64\n",
            "Col 52 : gdp_per_capita                                : float64\n",
            "Col 53 : extreme_poverty                               : float64\n",
            "Col 54 : cardiovasc_death_rate                         : float64\n",
            "Col 55 : diabetes_prevalence                           : float64\n",
            "Col 56 : female_smokers                                : float64\n",
            "Col 57 : male_smokers                                  : float64\n",
            "Col 58 : handwashing_facilities                        : float64\n",
            "Col 59 : hospital_beds_per_thousand                    : float64\n",
            "Col 60 : life_expectancy                               : float64\n",
            "Col 61 : human_development_index                       : float64\n",
            "Col 62 : population                                    : float64\n",
            "Col 63 : excess_mortality_cumulative_absolute          : float64\n",
            "Col 64 : excess_mortality_cumulative                   : float64\n",
            "Col 65 : excess_mortality                              : float64\n",
            "Col 66 : excess_mortality_cumulative_per_million       : float64\n"
          ]
        }
      ]
    },
    {
      "cell_type": "markdown",
      "source": [
        "Dando destaque para coluna 'date' que está em formato de objeto e que deve ser convertida para *datetime*, uma vez que se refere as datas, o que facilitará a manipulação."
      ],
      "metadata": {
        "id": "boDdUMd1rRnv"
      }
    },
    {
      "cell_type": "code",
      "source": [
        "df['date']=pd.to_datetime(df['date'])"
      ],
      "metadata": {
        "id": "Bu9n3xCbZQT-"
      },
      "execution_count": 5,
      "outputs": []
    },
    {
      "cell_type": "markdown",
      "source": [
        "Agora iremos visualizar algumas estatísticas dos valores numéricos, com uma descrição dos valores teremos acesso à contagem, média, padrão, mínimo, máximo, bem como percentil inferior, 50 e superior. Por padrão, o percentil inferior é 25 e o percentil superior é 75. O percentil 50 é igual à mediana."
      ],
      "metadata": {
        "id": "H3F0lTuZrt4m"
      }
    },
    {
      "cell_type": "code",
      "source": [
        "df[['total_cases','new_cases','total_deaths','new_deaths','total_cases_per_million','population','new_tests','new_vaccinations']].describe().round(2)"
      ],
      "metadata": {
        "colab": {
          "base_uri": "https://localhost:8080/",
          "height": 300
        },
        "id": "ZD8K4rmpY--_",
        "outputId": "143c91fe-3b8a-44c3-893f-eb776b3e8845"
      },
      "execution_count": 6,
      "outputs": [
        {
          "output_type": "execute_result",
          "data": {
            "text/plain": [
              "        total_cases   new_cases  total_deaths  new_deaths  \\\n",
              "count  2.187140e+05   218425.00     199433.00   199249.00   \n",
              "mean   2.386434e+06     6036.38      38983.55       67.97   \n",
              "std    2.319622e+07    62143.43     320914.49      565.10   \n",
              "min    1.000000e+00        0.00          1.00        0.00   \n",
              "25%    4.407250e+03        0.00        109.00        0.00   \n",
              "50%    4.537650e+04       37.00       1016.00        0.00   \n",
              "75%    4.492512e+05      683.00       8266.00        9.00   \n",
              "max    6.469266e+08  4083952.00    6646094.00    17733.00   \n",
              "\n",
              "       total_cases_per_million    population    new_tests  new_vaccinations  \n",
              "count                217679.00  2.316310e+05     75403.00          51078.00  \n",
              "mean                  65136.83  8.173160e+07     67285.41         485047.88  \n",
              "std                  114495.49  5.605783e+08    247734.00        2820225.97  \n",
              "min                       0.00  4.700000e+01         1.00              0.00  \n",
              "25%                    1125.75  7.824570e+05      2244.00           3072.00  \n",
              "50%                   10627.81  6.630621e+06      8783.00          21143.00  \n",
              "75%                   77586.38  2.816055e+07     37229.00         118507.25  \n",
              "max                  690003.54  7.975105e+09  35855632.00       49677470.00  "
            ],
            "text/html": [
              "\n",
              "  <div id=\"df-3cc0e6fe-9e1e-4e64-9316-08ed40252563\">\n",
              "    <div class=\"colab-df-container\">\n",
              "      <div>\n",
              "<style scoped>\n",
              "    .dataframe tbody tr th:only-of-type {\n",
              "        vertical-align: middle;\n",
              "    }\n",
              "\n",
              "    .dataframe tbody tr th {\n",
              "        vertical-align: top;\n",
              "    }\n",
              "\n",
              "    .dataframe thead th {\n",
              "        text-align: right;\n",
              "    }\n",
              "</style>\n",
              "<table border=\"1\" class=\"dataframe\">\n",
              "  <thead>\n",
              "    <tr style=\"text-align: right;\">\n",
              "      <th></th>\n",
              "      <th>total_cases</th>\n",
              "      <th>new_cases</th>\n",
              "      <th>total_deaths</th>\n",
              "      <th>new_deaths</th>\n",
              "      <th>total_cases_per_million</th>\n",
              "      <th>population</th>\n",
              "      <th>new_tests</th>\n",
              "      <th>new_vaccinations</th>\n",
              "    </tr>\n",
              "  </thead>\n",
              "  <tbody>\n",
              "    <tr>\n",
              "      <th>count</th>\n",
              "      <td>2.187140e+05</td>\n",
              "      <td>218425.00</td>\n",
              "      <td>199433.00</td>\n",
              "      <td>199249.00</td>\n",
              "      <td>217679.00</td>\n",
              "      <td>2.316310e+05</td>\n",
              "      <td>75403.00</td>\n",
              "      <td>51078.00</td>\n",
              "    </tr>\n",
              "    <tr>\n",
              "      <th>mean</th>\n",
              "      <td>2.386434e+06</td>\n",
              "      <td>6036.38</td>\n",
              "      <td>38983.55</td>\n",
              "      <td>67.97</td>\n",
              "      <td>65136.83</td>\n",
              "      <td>8.173160e+07</td>\n",
              "      <td>67285.41</td>\n",
              "      <td>485047.88</td>\n",
              "    </tr>\n",
              "    <tr>\n",
              "      <th>std</th>\n",
              "      <td>2.319622e+07</td>\n",
              "      <td>62143.43</td>\n",
              "      <td>320914.49</td>\n",
              "      <td>565.10</td>\n",
              "      <td>114495.49</td>\n",
              "      <td>5.605783e+08</td>\n",
              "      <td>247734.00</td>\n",
              "      <td>2820225.97</td>\n",
              "    </tr>\n",
              "    <tr>\n",
              "      <th>min</th>\n",
              "      <td>1.000000e+00</td>\n",
              "      <td>0.00</td>\n",
              "      <td>1.00</td>\n",
              "      <td>0.00</td>\n",
              "      <td>0.00</td>\n",
              "      <td>4.700000e+01</td>\n",
              "      <td>1.00</td>\n",
              "      <td>0.00</td>\n",
              "    </tr>\n",
              "    <tr>\n",
              "      <th>25%</th>\n",
              "      <td>4.407250e+03</td>\n",
              "      <td>0.00</td>\n",
              "      <td>109.00</td>\n",
              "      <td>0.00</td>\n",
              "      <td>1125.75</td>\n",
              "      <td>7.824570e+05</td>\n",
              "      <td>2244.00</td>\n",
              "      <td>3072.00</td>\n",
              "    </tr>\n",
              "    <tr>\n",
              "      <th>50%</th>\n",
              "      <td>4.537650e+04</td>\n",
              "      <td>37.00</td>\n",
              "      <td>1016.00</td>\n",
              "      <td>0.00</td>\n",
              "      <td>10627.81</td>\n",
              "      <td>6.630621e+06</td>\n",
              "      <td>8783.00</td>\n",
              "      <td>21143.00</td>\n",
              "    </tr>\n",
              "    <tr>\n",
              "      <th>75%</th>\n",
              "      <td>4.492512e+05</td>\n",
              "      <td>683.00</td>\n",
              "      <td>8266.00</td>\n",
              "      <td>9.00</td>\n",
              "      <td>77586.38</td>\n",
              "      <td>2.816055e+07</td>\n",
              "      <td>37229.00</td>\n",
              "      <td>118507.25</td>\n",
              "    </tr>\n",
              "    <tr>\n",
              "      <th>max</th>\n",
              "      <td>6.469266e+08</td>\n",
              "      <td>4083952.00</td>\n",
              "      <td>6646094.00</td>\n",
              "      <td>17733.00</td>\n",
              "      <td>690003.54</td>\n",
              "      <td>7.975105e+09</td>\n",
              "      <td>35855632.00</td>\n",
              "      <td>49677470.00</td>\n",
              "    </tr>\n",
              "  </tbody>\n",
              "</table>\n",
              "</div>\n",
              "      <button class=\"colab-df-convert\" onclick=\"convertToInteractive('df-3cc0e6fe-9e1e-4e64-9316-08ed40252563')\"\n",
              "              title=\"Convert this dataframe to an interactive table.\"\n",
              "              style=\"display:none;\">\n",
              "        \n",
              "  <svg xmlns=\"http://www.w3.org/2000/svg\" height=\"24px\"viewBox=\"0 0 24 24\"\n",
              "       width=\"24px\">\n",
              "    <path d=\"M0 0h24v24H0V0z\" fill=\"none\"/>\n",
              "    <path d=\"M18.56 5.44l.94 2.06.94-2.06 2.06-.94-2.06-.94-.94-2.06-.94 2.06-2.06.94zm-11 1L8.5 8.5l.94-2.06 2.06-.94-2.06-.94L8.5 2.5l-.94 2.06-2.06.94zm10 10l.94 2.06.94-2.06 2.06-.94-2.06-.94-.94-2.06-.94 2.06-2.06.94z\"/><path d=\"M17.41 7.96l-1.37-1.37c-.4-.4-.92-.59-1.43-.59-.52 0-1.04.2-1.43.59L10.3 9.45l-7.72 7.72c-.78.78-.78 2.05 0 2.83L4 21.41c.39.39.9.59 1.41.59.51 0 1.02-.2 1.41-.59l7.78-7.78 2.81-2.81c.8-.78.8-2.07 0-2.86zM5.41 20L4 18.59l7.72-7.72 1.47 1.35L5.41 20z\"/>\n",
              "  </svg>\n",
              "      </button>\n",
              "      \n",
              "  <style>\n",
              "    .colab-df-container {\n",
              "      display:flex;\n",
              "      flex-wrap:wrap;\n",
              "      gap: 12px;\n",
              "    }\n",
              "\n",
              "    .colab-df-convert {\n",
              "      background-color: #E8F0FE;\n",
              "      border: none;\n",
              "      border-radius: 50%;\n",
              "      cursor: pointer;\n",
              "      display: none;\n",
              "      fill: #1967D2;\n",
              "      height: 32px;\n",
              "      padding: 0 0 0 0;\n",
              "      width: 32px;\n",
              "    }\n",
              "\n",
              "    .colab-df-convert:hover {\n",
              "      background-color: #E2EBFA;\n",
              "      box-shadow: 0px 1px 2px rgba(60, 64, 67, 0.3), 0px 1px 3px 1px rgba(60, 64, 67, 0.15);\n",
              "      fill: #174EA6;\n",
              "    }\n",
              "\n",
              "    [theme=dark] .colab-df-convert {\n",
              "      background-color: #3B4455;\n",
              "      fill: #D2E3FC;\n",
              "    }\n",
              "\n",
              "    [theme=dark] .colab-df-convert:hover {\n",
              "      background-color: #434B5C;\n",
              "      box-shadow: 0px 1px 3px 1px rgba(0, 0, 0, 0.15);\n",
              "      filter: drop-shadow(0px 1px 2px rgba(0, 0, 0, 0.3));\n",
              "      fill: #FFFFFF;\n",
              "    }\n",
              "  </style>\n",
              "\n",
              "      <script>\n",
              "        const buttonEl =\n",
              "          document.querySelector('#df-3cc0e6fe-9e1e-4e64-9316-08ed40252563 button.colab-df-convert');\n",
              "        buttonEl.style.display =\n",
              "          google.colab.kernel.accessAllowed ? 'block' : 'none';\n",
              "\n",
              "        async function convertToInteractive(key) {\n",
              "          const element = document.querySelector('#df-3cc0e6fe-9e1e-4e64-9316-08ed40252563');\n",
              "          const dataTable =\n",
              "            await google.colab.kernel.invokeFunction('convertToInteractive',\n",
              "                                                     [key], {});\n",
              "          if (!dataTable) return;\n",
              "\n",
              "          const docLinkHtml = 'Like what you see? Visit the ' +\n",
              "            '<a target=\"_blank\" href=https://colab.research.google.com/notebooks/data_table.ipynb>data table notebook</a>'\n",
              "            + ' to learn more about interactive tables.';\n",
              "          element.innerHTML = '';\n",
              "          dataTable['output_type'] = 'display_data';\n",
              "          await google.colab.output.renderOutput(dataTable, element);\n",
              "          const docLink = document.createElement('div');\n",
              "          docLink.innerHTML = docLinkHtml;\n",
              "          element.appendChild(docLink);\n",
              "        }\n",
              "      </script>\n",
              "    </div>\n",
              "  </div>\n",
              "  "
            ]
          },
          "metadata": {},
          "execution_count": 6
        }
      ]
    },
    {
      "cell_type": "markdown",
      "source": [
        "Foram identificados alguns valores nulos/ausentes.\n",
        "\n",
        "Para analisar a porcentagem de valores ausentes, vamos achar a quantidade total de valores ausentes e dividir pelo total de linhas, posteriormente multiplicar por 100 para achar o valor em porcentagem, a ordem será colocada do maior para a menor."
      ],
      "metadata": {
        "id": "K9ur1brbtwKC"
      }
    },
    {
      "cell_type": "code",
      "source": [
        "#nulos\n",
        "((df.isnull().sum())/df.shape[0]).sort_values(ascending=False).round(2)  "
      ],
      "metadata": {
        "colab": {
          "base_uri": "https://localhost:8080/"
        },
        "id": "l9njcWOjZgRF",
        "outputId": "a3229b90-3052-43ed-bc50-91864d996f1c"
      },
      "execution_count": 7,
      "outputs": [
        {
          "output_type": "execute_result",
          "data": {
            "text/plain": [
              "weekly_icu_admissions                      0.97\n",
              "weekly_icu_admissions_per_million          0.97\n",
              "excess_mortality_cumulative_per_million    0.97\n",
              "excess_mortality_cumulative                0.97\n",
              "excess_mortality_cumulative_absolute       0.97\n",
              "                                           ... \n",
              "continent                                  0.02\n",
              "population                                 0.00\n",
              "date                                       0.00\n",
              "location                                   0.00\n",
              "iso_code                                   0.00\n",
              "Length: 67, dtype: float64"
            ]
          },
          "metadata": {},
          "execution_count": 7
        }
      ]
    },
    {
      "cell_type": "markdown",
      "source": [
        "Temos dados ausente em praticamente todas as colunas, population, date,location e iso_code são as únicas que não possuem dados ausentes. Esses dados faltante pode significar várias coisas diferentes, talvez o campo não fosse aplicável, ou os dados não estavam disponíveis. Pode ser que a pessoa que inseriu os dados não sabia o valor certo, ou não se preocupou que um campo não fosse preenchido.\n",
        "\n",
        "Agora iremos analisar os números de casos e mortes por *COVID-19*, para descobrirmos que conclusões poderemos chegar."
      ],
      "metadata": {
        "id": "V3NXVtz3uQkZ"
      }
    },
    {
      "cell_type": "markdown",
      "source": [
        "Primeiramente vou criar 3 novar variáveis(cases,populations e death) e atribuir a elas os maiores valores de casos, população e mortes.\n",
        "Em seguida vamos descobrir as regiões que possuem que tem a maior quantidade absoluta de mortes por *COVID-19* e os países  com maior número de casos. "
      ],
      "metadata": {
        "id": "I8gzM-sXvSkp"
      }
    },
    {
      "cell_type": "code",
      "source": [
        "cases = (df.groupby('location')['total_cases'].max())\n",
        "population = (df.groupby('location')['population'].max())\n",
        "deaths=(df.groupby('location')['total_deaths'].max())\n",
        "deaths.sort_values(ascending=False)[0:8]"
      ],
      "metadata": {
        "id": "VmgRahP8bEl6",
        "colab": {
          "base_uri": "https://localhost:8080/"
        },
        "outputId": "51b3d4e4-097c-4e5b-a393-fdd4e988a019"
      },
      "execution_count": 8,
      "outputs": [
        {
          "output_type": "execute_result",
          "data": {
            "text/plain": [
              "location\n",
              "World            6646094.0\n",
              "United States    1083362.0\n",
              "Brazil            690229.0\n",
              "India             530647.0\n",
              "Russia            384494.0\n",
              "Mexico            330633.0\n",
              "Africa            257332.0\n",
              "Peru              217566.0\n",
              "Name: total_deaths, dtype: float64"
            ]
          },
          "metadata": {},
          "execution_count": 8
        }
      ]
    },
    {
      "cell_type": "markdown",
      "source": [
        "Em relação às mortes, os países que lideravam aos 07 de Dezembro de 2022 em relação ao número de mortes eram:\n",
        "\n",
        "* Estados Unidos - 1.082.224 de mortes;\n",
        "* Brasil - 690.229 de mortes;\n",
        "* Índia - 530.638.0 de mortes;\n",
        "* Rússia - 384.437 de mortes;\n",
        "* México - 330.602 de mortes.\n",
        "\n",
        "Gráfico para visualizarmos os 5 países  com o maior número de mortes por COVID-19"
      ],
      "metadata": {
        "id": "8akgT5nVBLG6"
      }
    },
    {
      "cell_type": "code",
      "source": [
        "# gráfico de barras para total de mortes\n",
        "a = (df.groupby('location')['total_deaths'].max()).sort_values(ascending=False)[1:6]\n",
        "fig, ax = plt.subplots(figsize=(14,6))\n",
        "ax.ticklabel_format(axis='y', style='plain')\n",
        "ax.set_title(\"Países com mais casos de Covid-19\",fontsize=18)\n",
        "\n",
        "for i, v in enumerate(a):\n",
        "    ax.text(i-.19, \n",
        "            a[i]+10000, \n",
        "            int(a[i]), \n",
        "            fontsize=14, \n",
        "            color=\"black\")\n",
        "    \n",
        "a.plot(kind='bar');\n",
        "ax.set_xlabel(\"\")"
      ],
      "metadata": {
        "colab": {
          "base_uri": "https://localhost:8080/",
          "height": 469
        },
        "id": "bdUGHxvmDDYJ",
        "outputId": "fefb1dbb-09ad-4d79-8c52-78655b31bd33"
      },
      "execution_count": 9,
      "outputs": [
        {
          "output_type": "execute_result",
          "data": {
            "text/plain": [
              "Text(0.5, 0, '')"
            ]
          },
          "metadata": {},
          "execution_count": 9
        },
        {
          "output_type": "display_data",
          "data": {
            "text/plain": [
              "<Figure size 1008x432 with 1 Axes>"
            ],
            "image/png": "[encoded data removed]"
          },
          "metadata": {
            "needs_background": "light"
          }
        }
      ]
    },
    {
      "cell_type": "markdown",
      "source": [
        "Quantos porcentos os países com o maior número de mortos representam do total."
      ],
      "metadata": {
        "id": "XZ-_Fz6PPWua"
      }
    },
    {
      "cell_type": "code",
      "source": [
        "#relação em porcentagem do total de mortes para cada pais\n",
        "((deaths/deaths.max())*100).sort_values(ascending=False)[1:11]"
      ],
      "metadata": {
        "colab": {
          "base_uri": "https://localhost:8080/"
        },
        "id": "eATIBSF3jRU8",
        "outputId": "17518940-2307-419a-9c81-7487ea181379"
      },
      "execution_count": 10,
      "outputs": [
        {
          "output_type": "execute_result",
          "data": {
            "text/plain": [
              "location\n",
              "United States     16.300732\n",
              "Brazil            10.385484\n",
              "India              7.984344\n",
              "Russia             5.785263\n",
              "Mexico             4.974847\n",
              "Africa             3.871928\n",
              "Peru               3.273592\n",
              "United Kingdom     3.194297\n",
              "Italy              2.734433\n",
              "Indonesia          2.409114\n",
              "Name: total_deaths, dtype: float64"
            ]
          },
          "metadata": {},
          "execution_count": 10
        }
      ]
    },
    {
      "cell_type": "markdown",
      "source": [
        "Fazendo a soma da porcentagem das mortes dos 3 países com o maior número de mortes."
      ],
      "metadata": {
        "id": "LOz9eGt3P-zE"
      }
    },
    {
      "cell_type": "code",
      "source": [
        "percent_death=0\n",
        "for i in range(3): \n",
        " percent_death = percent_death + ((deaths/deaths.max())*100).sort_values(ascending=False)[i+1] \n",
        "print(f'Estados Unidos, Brazil e Índia são reponsáveis por {percent_death:.2f}% de todas as mortes por COVID-19 do mundo.')"
      ],
      "metadata": {
        "colab": {
          "base_uri": "https://localhost:8080/"
        },
        "id": "N6hpLgK7_Gf-",
        "outputId": "75e98032-cad7-4980-e73d-24aebc55de4e"
      },
      "execution_count": 11,
      "outputs": [
        {
          "output_type": "stream",
          "name": "stdout",
          "text": [
            "Estados Unidos, Brazil e Índia são reponsáveis por 34.67% de todas as mortes por COVID-19 do mundo.\n"
          ]
        }
      ]
    },
    {
      "cell_type": "markdown",
      "source": [
        "Estados Unidos, Brasil e Índia são o top 3 países com maior número de pessoas que faleceram de *COVID-19* representando mais de 34% de todas as mortes do mundo.\n",
        "\n",
        "Uma visão dos países com os maiores números de casos.\n"
      ],
      "metadata": {
        "id": "L11AUYaRQ8OP"
      }
    },
    {
      "cell_type": "code",
      "source": [
        "cases.sort_values(ascending=False)[1:11]"
      ],
      "metadata": {
        "colab": {
          "base_uri": "https://localhost:8080/"
        },
        "id": "rCPv7Y8wdAig",
        "outputId": "15afbb5b-43ab-4630-d5e9-17a7fee57b10"
      },
      "execution_count": 12,
      "outputs": [
        {
          "output_type": "execute_result",
          "data": {
            "text/plain": [
              "location\n",
              "United States     99230740.0\n",
              "India             44675413.0\n",
              "France            38299645.0\n",
              "Germany           36690235.0\n",
              "Brazil            35396191.0\n",
              "South Korea       27548821.0\n",
              "Japan             25576875.0\n",
              "Italy             24488080.0\n",
              "United Kingdom    24024746.0\n",
              "Russia            21329068.0\n",
              "Name: total_cases, dtype: float64"
            ]
          },
          "metadata": {},
          "execution_count": 12
        }
      ]
    },
    {
      "cell_type": "markdown",
      "source": [
        "Em relação aos casos, os países que lideravam aos 07 de Dezembro de 2022 eram:\n",
        "\n",
        "* Estados Unidos - 99.077.996\n",
        "* Índia - 44.675.172 \n",
        "* França - 38.223.893\n",
        "\n",
        "Olhando esses dados uma questão interessante surge, a França tem mais casos que o Brazil, porém tem menos mortes, algumas hipóteses para a frança ter menos mortes são: \n",
        "* O pais ter testado mais pessoas.\n",
        "* A população pode de alguma forma ser mais resistente.\n",
        "* A população pode ter sido vacinada de forma mais rápida e eficiente.\n",
        "\n",
        "Analisando um pouco mais a fundo essa relação de casos e mortes entre o Brazil e França."
      ],
      "metadata": {
        "id": "U4W2ZHlVv2J-"
      }
    },
    {
      "cell_type": "code",
      "source": [
        "france_case = df[df['location']=='France']['total_cases'].max()\n",
        "brazil_case = df[df['location']=='Brazil']['total_cases'].max()\n",
        "\n",
        "france_death = df[df['location']=='France']['total_deaths'].max()\n",
        "brazil_death = df[df['location']=='Brazil']['total_deaths'].max()\n",
        "\n",
        "print(f'Na França tiveram {int(france_case)} casos e {int(france_death)} mortes. ')\n",
        "print(f'Na Brasil tiveram {int(brazil_case)} casos e {int(brazil_death)} mortes. ')\n",
        "x_death = (brazil_death)*100/(france_death)\n",
        "x_cases = (france_case-brazil_case)*100/(france_case)\n",
        "print(f'o Brasil teve {x_death:.2f}% mais mortes que a frança e {x_cases:.2f}% menos casos de COVID-19 que a França. ')"
      ],
      "metadata": {
        "colab": {
          "base_uri": "https://localhost:8080/"
        },
        "id": "d0OQiRdfaf7S",
        "outputId": "22588641-9ffd-4dd7-c17a-f405bf5ecd38"
      },
      "execution_count": 13,
      "outputs": [
        {
          "output_type": "stream",
          "name": "stdout",
          "text": [
            "Na França tiveram 38299645 casos e 159524 mortes. \n",
            "Na Brasil tiveram 35396191 casos e 690229 mortes. \n",
            "o Brasil teve 432.68% mais mortes que a frança e 7.58% menos casos de COVID-19 que a França. \n"
          ]
        }
      ]
    },
    {
      "cell_type": "markdown",
      "source": [
        "Para fazer as análises irei criar dois novos *dataset* referentes ao Brasil para analisar a relação da vacinação dos dois países."
      ],
      "metadata": {
        "id": "1SyiQzIZ4OLj"
      }
    },
    {
      "cell_type": "code",
      "source": [
        "df_brasil = df[(df['location']==\"Brazil\")].copy()\n",
        "df_france = df[(df['location']==\"France\") ].copy()\n",
        "df_world = df[df['location']==\"World\"].copy()\n",
        "\n",
        "df_brasil = df_brasil.set_index('date')\n",
        "df_france = df_france.set_index('date')"
      ],
      "metadata": {
        "id": "E0P3sQTo5NmO"
      },
      "execution_count": 14,
      "outputs": []
    },
    {
      "cell_type": "markdown",
      "source": [
        "Vacinação por total da população"
      ],
      "metadata": {
        "id": "wEmb_hGR8ISP"
      }
    },
    {
      "cell_type": "code",
      "source": [
        "df_population_vaccinated_france = df_france['people_vaccinated']/df_france['population']\n",
        "df_population_vaccinated_brasil = df_brasil['people_vaccinated']/df_brasil['population']\n",
        "\n",
        "df_tested_france = df_france['total_tests']\n",
        "df_tested_brasil = df_brasil['total_tests']\n",
        "\n",
        "\n",
        "fig, ax = plt.subplots(nrows=1, ncols=1,figsize=(10,6))\n",
        "df_tested_brasil.plot(kind='line',ax=ax,label='Brasil')\n",
        "ax.set_title(\"Vacinação Brasil x França\")\n",
        "ax.set_ylabel(\"Vacinação\")\n",
        "\n",
        "\n",
        "df_tested_france.plot(kind=\"line\",ax=ax,label='França')\n",
        "ax.set_xlabel(\"\")\n",
        "\n",
        "plt.tight_layout()\n",
        "plt.legend(loc='best')"
      ],
      "metadata": {
        "colab": {
          "base_uri": "https://localhost:8080/",
          "height": 458
        },
        "id": "-rB5Civl5Ltx",
        "outputId": "8c9ce0f0-297e-4058-cc77-d31ce35b59c0"
      },
      "execution_count": 15,
      "outputs": [
        {
          "output_type": "execute_result",
          "data": {
            "text/plain": [
              "<matplotlib.legend.Legend at 0x7fef6467ab50>"
            ]
          },
          "metadata": {},
          "execution_count": 15
        },
        {
          "output_type": "display_data",
          "data": {
            "text/plain": [
              "<Figure size 720x432 with 1 Axes>"
            ],
            "image/png": "[encoded data removed]"
          },
          "metadata": {
            "needs_background": "light"
          }
        }
      ]
    },
    {
      "cell_type": "markdown",
      "source": [
        "Os dados referentes as pessoas testadas no Brasil estão faltando, inviabilizando assim então a comparação entre as pessoas testadas no Brasil e na França.\n",
        "\n",
        "Agora iremos analisar a vacinação dos dois países ."
      ],
      "metadata": {
        "id": "siFDV_df9BvG"
      }
    },
    {
      "cell_type": "code",
      "source": [
        "fig, ax = plt.subplots(nrows=1, ncols=1,figsize=(12,7))\n",
        "df_population_vaccinated_brasil.plot(kind='line',ax=ax,label='Brasil')\n",
        "ax.set_title(\"Vacinação Brasil x França\")\n",
        "ax.set_ylabel(\"Vacinação\")\n",
        "\n",
        "df_population_vaccinated_france.plot(kind=\"line\",ax=ax,label='França')\n",
        "ax.set_xlabel(\"\")\n",
        "\n",
        "plt.tight_layout()\n",
        "plt.legend(loc='lower right')"
      ],
      "metadata": {
        "colab": {
          "base_uri": "https://localhost:8080/",
          "height": 530
        },
        "id": "ITU3MC1W4qP1",
        "outputId": "99c689ab-9d3d-4399-a545-a91cec41ecf4"
      },
      "execution_count": 16,
      "outputs": [
        {
          "output_type": "execute_result",
          "data": {
            "text/plain": [
              "<matplotlib.legend.Legend at 0x7fef61d87af0>"
            ]
          },
          "metadata": {},
          "execution_count": 16
        },
        {
          "output_type": "display_data",
          "data": {
            "text/plain": [
              "<Figure size 864x504 with 1 Axes>"
            ],
            "image/png": "[encoded data removed]"
          },
          "metadata": {
            "needs_background": "light"
          }
        }
      ]
    },
    {
      "cell_type": "markdown",
      "source": [
        "Não exitem tanta diferença na taxa de vacinação da população dos dois países .\n",
        "\n",
        "Uma vez que os dados dos testes do Brasil estão faltando, não foi possível confirmar o real motivo do Brasil ter menos casos e mais mortes que a frança.\n",
        "\n",
        "Seguindo em frente iremos analisar os países  com a maior porcentagem de mortes em relação a sua população total.\n"
      ],
      "metadata": {
        "id": "r4iP-WCq47Nv"
      }
    },
    {
      "cell_type": "code",
      "source": [
        "#morte por total da população\n",
        "((deaths/population)*100).sort_values(ascending=False)[:5].round(2)"
      ],
      "metadata": {
        "colab": {
          "base_uri": "https://localhost:8080/"
        },
        "id": "x7C0BizbflBE",
        "outputId": "298fc5a3-3c70-4f04-e05f-e3f37af6c169"
      },
      "execution_count": 17,
      "outputs": [
        {
          "output_type": "execute_result",
          "data": {
            "text/plain": [
              "location\n",
              "Peru                      0.64\n",
              "Bulgaria                  0.56\n",
              "Bosnia and Herzegovina    0.50\n",
              "Hungary                   0.48\n",
              "North Macedonia           0.46\n",
              "dtype: float64"
            ]
          },
          "metadata": {},
          "execution_count": 17
        }
      ]
    },
    {
      "cell_type": "markdown",
      "source": [
        "Peru, Bulgária e Bósnia e Herzegovina são os países  com a maior taxa de morte por população.\n",
        "\n",
        "Agora vamos descobrir quais países possuem os maiores PIBs per carpital."
      ],
      "metadata": {
        "id": "63_KcsytvDiR"
      }
    },
    {
      "cell_type": "code",
      "source": [
        "pib = df.groupby('location')['gdp_per_capita'].max()\n",
        "df2 = df.set_index('location')\n",
        "pib = df2[(df2['date']==\"2022-12-07\")]['gdp_per_capita']\n",
        "\n",
        "pib.sort_values(ascending=False)[0:10]"
      ],
      "metadata": {
        "colab": {
          "base_uri": "https://localhost:8080/"
        },
        "id": "_5zTe8jX9dsd",
        "outputId": "1e72e81a-1203-4823-ee72-95c75a32ad65"
      },
      "execution_count": 18,
      "outputs": [
        {
          "output_type": "execute_result",
          "data": {
            "text/plain": [
              "location\n",
              "Qatar                   116935.600\n",
              "Macao                   104861.851\n",
              "Luxembourg               94277.965\n",
              "Singapore                85535.383\n",
              "Brunei                   71809.251\n",
              "Ireland                  67335.293\n",
              "United Arab Emirates     67293.483\n",
              "Kuwait                   65530.537\n",
              "Norway                   64800.057\n",
              "Switzerland              57410.166\n",
              "Name: gdp_per_capita, dtype: float64"
            ]
          },
          "metadata": {},
          "execution_count": 18
        }
      ]
    },
    {
      "cell_type": "markdown",
      "source": [
        "Com os dados disponíveis em 07 de Dezembro de 2022 os 5 países com os maiores PIB per capital são:\n",
        "\n",
        "\n",
        "País  | PIB per capital \n",
        "------------|-----------\n",
        "Qatar | 116.935,60\n",
        "Macao | 104.861,85\n",
        "Luxemburgo | 94.277,96\n",
        "Singapura| 85.535,38\n",
        "Brunei | 71.809,25\n"
      ],
      "metadata": {
        "id": "2CK9tWq0_4mo"
      }
    },
    {
      "cell_type": "markdown",
      "source": [
        "Agora vamos visualizar um gráfico com a distribuição do número de mortes em relação ao PIB per carpital."
      ],
      "metadata": {
        "id": "RzpIR6pRMk-L"
      }
    },
    {
      "cell_type": "code",
      "source": [
        "# plotando disperão do número de mortos por renda per capita\n",
        "plt.figure(figsize = (12, 6))\n",
        "sns.scatterplot(data=df, x='gdp_per_capita', y='total_deaths')\n",
        "plt.xlabel(\"PIB per Capita\", size = 14)\n",
        "plt.ylabel(\"Total de mortes\", size = 14)\n",
        "plt.show()\n",
        "     "
      ],
      "metadata": {
        "colab": {
          "base_uri": "https://localhost:8080/",
          "height": 403
        },
        "id": "9uybYsz0Mvkl",
        "outputId": "a6dc95fc-d5f3-468c-863c-411a07be2b93"
      },
      "execution_count": 19,
      "outputs": [
        {
          "output_type": "display_data",
          "data": {
            "text/plain": [
              "<Figure size 864x432 with 1 Axes>"
            ],
            "image/png": "[encoded data removed]"
          },
          "metadata": {
            "needs_background": "light"
          }
        }
      ]
    },
    {
      "cell_type": "markdown",
      "source": [
        "Percebemos que países  com os maiores PIB per capital aparentemente tendem a ter menos mortes de COVID-19."
      ],
      "metadata": {
        "id": "zWgwt_UV8_uH"
      }
    },
    {
      "cell_type": "code",
      "source": [
        "(df.groupby('gdp_per_capita')['total_deaths'].max()).sort_index(ascending=False)"
      ],
      "metadata": {
        "colab": {
          "base_uri": "https://localhost:8080/"
        },
        "id": "rjEh0TZQVJsI",
        "outputId": "283e321b-a2cb-4773-de23-1aaf585913da"
      },
      "execution_count": 20,
      "outputs": [
        {
          "output_type": "execute_result",
          "data": {
            "text/plain": [
              "gdp_per_capita\n",
              "116935.600     685.0\n",
              "104861.851       6.0\n",
              "94277.965     1168.0\n",
              "85535.383     1707.0\n",
              "71809.251      225.0\n",
              "               ...  \n",
              "926.000        314.0\n",
              "808.133       1456.0\n",
              "752.788        294.0\n",
              "702.225         38.0\n",
              "661.240        113.0\n",
              "Name: total_deaths, Length: 196, dtype: float64"
            ]
          },
          "metadata": {},
          "execution_count": 20
        }
      ]
    },
    {
      "cell_type": "markdown",
      "metadata": {
        "id": "SViA5VZ7DYLA"
      },
      "source": [
        "### Análise Exploratória para o Brasil\n",
        "Nessa análise do Brasil iremos:\n",
        "\n",
        "* Identificar quando foi registrada a primeira morte no Brasil\n",
        "* Identificar quantos dias demorou para registrarmos a primeira morte, considerando o primeiro caso de COVID-19 registrado.\n",
        "* Plotar gráficos de linha em escalas linear e logarítmica para os casos totais e mortes totais."
      ]
    },
    {
      "cell_type": "code",
      "source": [
        "#primeiro caso de *COVID-19* no Brasil\n",
        "primeiro_caso = df_brasil[df_brasil['total_cases'] > 0 ][:1]\n",
        "print(f'O primeiro caso no Brasil ocorreu em : {primeiro_caso.index[0]}')"
      ],
      "metadata": {
        "colab": {
          "base_uri": "https://localhost:8080/"
        },
        "id": "dxJGfvnlmavu",
        "outputId": "dd428551-389a-4026-fb62-d7ec8230f736"
      },
      "execution_count": 21,
      "outputs": [
        {
          "output_type": "stream",
          "name": "stdout",
          "text": [
            "O primeiro caso no Brasil ocorreu em : 2020-02-26 00:00:00\n"
          ]
        }
      ]
    },
    {
      "cell_type": "code",
      "source": [
        "#primeira morte de *COVID-19* no Brasil\n",
        "primeira_morte = df_brasil[df_brasil['total_deaths'] > 0 ][:1]\n",
        "print(f'a primeira morte no Brasil ocorreu em : {primeira_morte.index[0]}')"
      ],
      "metadata": {
        "colab": {
          "base_uri": "https://localhost:8080/"
        },
        "id": "9Q7x1FGTnDpx",
        "outputId": "4ebd2c65-e5da-4bd9-e44d-3c98808d5aaa"
      },
      "execution_count": 22,
      "outputs": [
        {
          "output_type": "stream",
          "name": "stdout",
          "text": [
            "a primeira morte no Brasil ocorreu em : 2020-03-17 00:00:00\n"
          ]
        }
      ]
    },
    {
      "cell_type": "code",
      "source": [
        "diferenca_morte = (primeira_morte.index-primeiro_caso.index)\n",
        "print(f'foram {diferenca_morte[0]} do primeiro caso até a primeira morte')\n"
      ],
      "metadata": {
        "colab": {
          "base_uri": "https://localhost:8080/"
        },
        "id": "-Vq33DAOoN4M",
        "outputId": "00a0d5d4-dc01-4082-ecff-4ddd3bc353b0"
      },
      "execution_count": 23,
      "outputs": [
        {
          "output_type": "stream",
          "name": "stdout",
          "text": [
            "foram 20 days 00:00:00 do primeiro caso até a primeira morte\n"
          ]
        }
      ]
    },
    {
      "cell_type": "markdown",
      "source": [
        "Agora vamos visualizar um gráfico com o total de mortes e total de casos no Brasil."
      ],
      "metadata": {
        "id": "q0J8Etam7dyq"
      }
    },
    {
      "cell_type": "code",
      "source": [
        "# Plotar gráficos de linha em escalas linear e logarítmica para os casos totais e mortes totais.\n",
        "x = list(range(len(df_brasil)))\n",
        "z = df_brasil['total_cases']\n",
        "z2 = df_brasil['total_deaths']\n",
        "\n",
        "\n",
        "fig, ((ax1, ax2), (ax3, ax4)) = plt.subplots(nrows=2, ncols=2, figsize=(15, 8))\n",
        "ax1.set_title('Casos no Brasil')\n",
        "ax1.set_xlabel('Dias')\n",
        "ax1.set_ylabel('Casos')\n",
        "\n",
        "ax1.plot(x, z)\n",
        "\n",
        "ax2.set_title('Casos no Brasil (Escala logarítmica)')\n",
        "ax2.set_xlabel('Dias')\n",
        "ax2.set_ylabel('Casos')\n",
        "ax2.set_yscale('log')\n",
        "ax2.plot(x, z)\n",
        "\n",
        "ax3.set_title('Mortes no Brasil')\n",
        "ax3.set_xlabel('Dias')\n",
        "ax3.set_ylabel('Mortes')\n",
        "ax3.plot(x, z2)\n",
        "\n",
        "ax4.set_title('Mortes no Brasil (Escala logarítmica')\n",
        "ax4.set_xlabel('Dias')\n",
        "ax4.set_ylabel('Mortes')\n",
        "ax4.set_yscale('log')\n",
        "ax4.plot(x, z2)\n",
        "\n",
        "plt.tight_layout()\n",
        "\n"
      ],
      "metadata": {
        "colab": {
          "base_uri": "https://localhost:8080/",
          "height": 585
        },
        "id": "TmS0Wr3MGrV_",
        "outputId": "37256b3c-f108-46d9-cf78-e7784312e0aa"
      },
      "execution_count": 24,
      "outputs": [
        {
          "output_type": "display_data",
          "data": {
            "text/plain": [
              "<Figure size 1080x576 with 4 Axes>"
            ],
            "image/png": "[encoded data removed]"
          },
          "metadata": {
            "needs_background": "light"
          }
        }
      ]
    },
    {
      "cell_type": "markdown",
      "source": [
        "Uma matriz de correlação é uma tabela que indica os coeficientes de conexão entre os fatores. Cada célula da tabela mostra a conexão entre os dois fatores. A correlação é um número que varia entre -1 e 1. Em estatística é representado pela letra r. Uma correlação pode ser positiva(r > 0), o que significa que ambas as variáveis se movem na mesma direção ou são negativas(r < 0), o que significa que se movem em direções opostas, ou seja, quando o valor de uma variável aumenta, o valor da outra variáveis diminui. A correlação também pode ser nula ou zero, o que significa que as variáveis não estão relacionadas.\n",
        "\n",
        "Correlação positiva: ambas as variáveis mudam na mesma direção.\n",
        "Correlação Nula: Nenhuma relação na mudança das variáveis\n",
        "Correlação Negativa: as variáveis mudam em direções opostas."
      ],
      "metadata": {
        "id": "cBaPxSWVF2qi"
      }
    },
    {
      "cell_type": "code",
      "source": [
        "corr = df_brasil[['new_cases','new_deaths','people_vaccinated','people_fully_vaccinated',]].corr()\n",
        "fig, ax = plt.subplots(figsize=(15, 7))\n",
        "sns.heatmap(corr,fmt='.2f', square=True,linecolor='white', annot=True);"
      ],
      "metadata": {
        "colab": {
          "base_uri": "https://localhost:8080/",
          "height": 542
        },
        "id": "Es3MfsXtS5MF",
        "outputId": "2da1ced1-bf9b-4d5f-f8ff-ecae885fe953"
      },
      "execution_count": 25,
      "outputs": [
        {
          "output_type": "display_data",
          "data": {
            "text/plain": [
              "<Figure size 1080x504 with 2 Axes>"
            ],
            "image/png": "[encoded data removed]"
          },
          "metadata": {
            "needs_background": "light"
          }
        }
      ]
    },
    {
      "cell_type": "markdown",
      "source": [
        "Analisando a matriz de correlação acima, percebemos que existe uma relação negativa bastante forte em relação a pessoas vacinadas e novas mortes, sugerindo que quanto mais pessoas vacinadas menos mortes ocorrem."
      ],
      "metadata": {
        "id": "8fVDT0K5F7Xq"
      }
    },
    {
      "cell_type": "markdown",
      "metadata": {
        "id": "LCsiXvM3BcsO"
      },
      "source": [
        "# Conclusão\n",
        "\n",
        "Neste notebook pudemos estudar um pouco os dados referentes ao COVID-19. Tendo o banco de dados sido obtido pela organização Our World in Data, no mês de dezembro de 2022, com isso resultados obtidos refletem somente o momento em que os dados foram analisados.\n",
        "\n",
        "\n",
        "##Em relação às mortes, os países que lideravam aos 07 de Dezembro de 2022 em relação ao número de mortes eram: \n",
        "\n",
        "* Estados Unidos - 1.082.224 de mortes;\n",
        "* Brasil - 690.229 de mortes;\n",
        "* Índia - 530.638.0 de mortes;\n",
        "\n",
        "Estados Unidos, Brasil e Índia representam mais de 34% de todas as mortes do mundo.\n",
        "\n",
        "\n",
        "## Em relação aos casos, os países que lideravam aos 07 de Dezembro de 2022 eram:\n",
        "\n",
        "* Estados Unidos - 99.077.996\n",
        "* Índia - 44.675.172 \n",
        "* França - 38.223.893\n",
        "\n",
        "\n",
        "\n",
        "## Em relação aos países com a maior porcentagem de mortes em relação a sua população total.\n",
        "\n",
        "* Peru - 0.64\n",
        "* Bulgaria - 0.56\n",
        "* Bosnia and Herzegovina - 0.50\n",
        "\n",
        "## Aparentemente que países  com os maiores PIB per capital tendem a ter menos mortes de COVID-19.\n",
        "\n",
        "  País  | PIB per capital | Mortes | Population\n",
        "  ------------|-----------|-----------|-----------\n",
        "  Qatar | 116.935,60 | 685 | 2.695.131\n",
        "  Macao | 104.861,85 | 6 | 695.180\n",
        "  Luxemburgo | 94.277,96 | 1168 | 647.601\n",
        "  Singapura| 85.535,38 | 1707 | 5.637.022\n",
        "  Brunei | 71.809,25 | 225 | 449.002\n",
        "\n",
        "#COVID-19 no Brasil:\n",
        "\n",
        "* O primeiro caso no Brasil ocorreu em 26 de fevereiro de 2020 e a primeira morte no Brasil ocorreu em 17 de abril de 2020, foram 20 dias do primeiro caso até a primeira morte.\n",
        "\n",
        "* Relação entre pessoas vacinadas e novas mortes, quanto mais pessoas vacinada menos mortes ocorrem.\n"
      ]
    }
  ]
}